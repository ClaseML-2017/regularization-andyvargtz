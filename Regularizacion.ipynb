{
 "cells": [
  {
   "cell_type": "code",
   "execution_count": 3,
   "metadata": {
    "collapsed": true
   },
   "outputs": [],
   "source": [
    "# Andrea Vargas Gutierrez 000132192\n",
    "\n",
    "\n",
    "import pandas as pd\n",
    "import numpy as np\n",
    "from sklearn.model_selection import train_test_split\n",
    "from sklearn.metrics import confusion_matrix\n",
    "from scipy.stats import norm\n",
    "from sklearn import preprocessing , linear_model\n",
    "from sklearn.linear_model import LinearRegression\n",
    "from random import random\n",
    "import matplotlib.pyplot as plt\n",
    "%matplotlib inline"
   ]
  },
  {
   "cell_type": "code",
   "execution_count": 4,
   "metadata": {
    "collapsed": true
   },
   "outputs": [],
   "source": [
    "df = pd.read_csv(\"C:\\Users\\Andrea1\\Desktop\\project1\\environment1/reglinPoli.csv\")"
   ]
  },
  {
   "cell_type": "code",
   "execution_count": 5,
   "metadata": {},
   "outputs": [
    {
     "data": {
      "text/html": [
       "<div>\n",
       "<style>\n",
       "    .dataframe thead tr:only-child th {\n",
       "        text-align: right;\n",
       "    }\n",
       "\n",
       "    .dataframe thead th {\n",
       "        text-align: left;\n",
       "    }\n",
       "\n",
       "    .dataframe tbody tr th {\n",
       "        vertical-align: top;\n",
       "    }\n",
       "</style>\n",
       "<table border=\"1\" class=\"dataframe\">\n",
       "  <thead>\n",
       "    <tr style=\"text-align: right;\">\n",
       "      <th></th>\n",
       "      <th>X</th>\n",
       "      <th>X2</th>\n",
       "      <th>X3</th>\n",
       "      <th>X4</th>\n",
       "      <th>X5</th>\n",
       "      <th>y</th>\n",
       "    </tr>\n",
       "  </thead>\n",
       "  <tbody>\n",
       "    <tr>\n",
       "      <th>count</th>\n",
       "      <td>1029.000000</td>\n",
       "      <td>1029.000000</td>\n",
       "      <td>1029.000000</td>\n",
       "      <td>1029.000000</td>\n",
       "      <td>1029.000000</td>\n",
       "      <td>1029.000000</td>\n",
       "    </tr>\n",
       "    <tr>\n",
       "      <th>mean</th>\n",
       "      <td>48.052380</td>\n",
       "      <td>3113.669342</td>\n",
       "      <td>1.542203</td>\n",
       "      <td>-0.011250</td>\n",
       "      <td>628.000000</td>\n",
       "      <td>3113.490528</td>\n",
       "    </tr>\n",
       "    <tr>\n",
       "      <th>std</th>\n",
       "      <td>28.379936</td>\n",
       "      <td>2891.956247</td>\n",
       "      <td>0.452374</td>\n",
       "      <td>0.717016</td>\n",
       "      <td>297.191016</td>\n",
       "      <td>2892.963581</td>\n",
       "    </tr>\n",
       "    <tr>\n",
       "      <th>min</th>\n",
       "      <td>0.006314</td>\n",
       "      <td>0.000040</td>\n",
       "      <td>-2.199666</td>\n",
       "      <td>-0.999993</td>\n",
       "      <td>114.000000</td>\n",
       "      <td>0.000040</td>\n",
       "    </tr>\n",
       "    <tr>\n",
       "      <th>25%</th>\n",
       "      <td>23.174764</td>\n",
       "      <td>537.069692</td>\n",
       "      <td>1.365015</td>\n",
       "      <td>-0.731530</td>\n",
       "      <td>371.000000</td>\n",
       "      <td>522.757565</td>\n",
       "    </tr>\n",
       "    <tr>\n",
       "      <th>50%</th>\n",
       "      <td>47.655827</td>\n",
       "      <td>2271.077831</td>\n",
       "      <td>1.678116</td>\n",
       "      <td>-0.046938</td>\n",
       "      <td>628.000000</td>\n",
       "      <td>2262.728789</td>\n",
       "    </tr>\n",
       "    <tr>\n",
       "      <th>75%</th>\n",
       "      <td>71.372550</td>\n",
       "      <td>5094.040864</td>\n",
       "      <td>1.853531</td>\n",
       "      <td>0.732296</td>\n",
       "      <td>885.000000</td>\n",
       "      <td>5093.260718</td>\n",
       "    </tr>\n",
       "    <tr>\n",
       "      <th>max</th>\n",
       "      <td>99.873062</td>\n",
       "      <td>9974.628611</td>\n",
       "      <td>1.999448</td>\n",
       "      <td>1.000000</td>\n",
       "      <td>1142.000000</td>\n",
       "      <td>10028.067820</td>\n",
       "    </tr>\n",
       "  </tbody>\n",
       "</table>\n",
       "</div>"
      ],
      "text/plain": [
       "                 X           X2           X3           X4           X5  \\\n",
       "count  1029.000000  1029.000000  1029.000000  1029.000000  1029.000000   \n",
       "mean     48.052380  3113.669342     1.542203    -0.011250   628.000000   \n",
       "std      28.379936  2891.956247     0.452374     0.717016   297.191016   \n",
       "min       0.006314     0.000040    -2.199666    -0.999993   114.000000   \n",
       "25%      23.174764   537.069692     1.365015    -0.731530   371.000000   \n",
       "50%      47.655827  2271.077831     1.678116    -0.046938   628.000000   \n",
       "75%      71.372550  5094.040864     1.853531     0.732296   885.000000   \n",
       "max      99.873062  9974.628611     1.999448     1.000000  1142.000000   \n",
       "\n",
       "                  y  \n",
       "count   1029.000000  \n",
       "mean    3113.490528  \n",
       "std     2892.963581  \n",
       "min        0.000040  \n",
       "25%      522.757565  \n",
       "50%     2262.728789  \n",
       "75%     5093.260718  \n",
       "max    10028.067820  "
      ]
     },
     "execution_count": 5,
     "metadata": {},
     "output_type": "execute_result"
    }
   ],
   "source": [
    "df.describe()"
   ]
  },
  {
   "cell_type": "code",
   "execution_count": 6,
   "metadata": {
    "collapsed": true
   },
   "outputs": [],
   "source": [
    "# index for selecting data 0.75 is the percentage in training\n",
    "index=np.array([1 if random() < 0.75 else 0 for i in range(len(df))])\n",
    "# Separate both train and test as well as the response variable\n",
    "X_train=np.array(df[df.columns[0:-1]])[index==1]\n",
    "X_test=np.array(df[df.columns[0:-1]])[index==0]\n",
    "Y_train=np.array(df[[df.columns[-1]]])[index==1]\n",
    "Y_test=np.array(df[[df.columns[-1]]])[index==0]"
   ]
  },
  {
   "cell_type": "code",
   "execution_count": 7,
   "metadata": {
    "collapsed": true
   },
   "outputs": [],
   "source": [
    "#Normalizacion de los datos\n",
    "from sklearn import preprocessing\n",
    "scaleX=preprocessing.StandardScaler()\n",
    "scaleY=preprocessing.StandardScaler()\n",
    "scaleX.fit(X_train)\n",
    "X_train=scaleX.transform(X_train)\n",
    "scaleY.fit(Y_train)\n",
    "Y_train=scaleY.transform(Y_train)"
   ]
  },
  {
   "cell_type": "code",
   "execution_count": 50,
   "metadata": {
    "collapsed": true
   },
   "outputs": [],
   "source": [
    "#Metodo para seleccionar Wi\n",
    "def ajustarWi(Winic,Xmat,Yvec,ajuste, lam):\n",
    "    Wi=Winic\n",
    "    Error=0\n",
    "    Errorvec=list()\n",
    "    Waux=Wi[:]\n",
    "    W0=1\n",
    "\n",
    "    for j in range(0,len(Yvec)-1):\n",
    "        Vj=np.dot(Xmat[j,:],Wi)\n",
    "        Error=Yvec[j]-Vj-W0\n",
    "        Wiaux=Wi[:]\n",
    "        W0aux=W0\n",
    "        Errorvec.append(Error)\n",
    "       \n",
    "        for i in range(0,len(Xmat[0])):\n",
    "            Wi[i] = Waux[i]+Error*ajuste*Xmat[j,i]-(lam*Waux[i])\n",
    "            W0 = W0aux + ajuste * Error\n",
    "        \n",
    "        \n",
    "    return  W0, Wi\n",
    "    "
   ]
  },
  {
   "cell_type": "code",
   "execution_count": 9,
   "metadata": {
    "collapsed": true
   },
   "outputs": [],
   "source": [
    "#transformamos los datos de prueba (test)\n",
    "X_test=scaleX.transform(X_test)\n",
    "Y_test=scaleY.transform(Y_test)"
   ]
  },
  {
   "cell_type": "code",
   "execution_count": 10,
   "metadata": {
    "collapsed": true
   },
   "outputs": [],
   "source": [
    "#Iniciando el vector de Wi en 1's\n",
    "Winic=np.ones(len(X_train[0,:]))"
   ]
  },
  {
   "cell_type": "code",
   "execution_count": 11,
   "metadata": {
    "collapsed": true
   },
   "outputs": [],
   "source": [
    "\n",
    "W0=ajustarWi(Winic,X_train,Y_train,.1,.001)[0]\n",
    "Wi=ajustarWi(Winic,X_train,Y_train,.1,.001)[1]\n"
   ]
  },
  {
   "cell_type": "code",
   "execution_count": 15,
   "metadata": {},
   "outputs": [
    {
     "data": {
      "text/plain": [
       "array([ 0.20117278,  0.84930364, -0.05922765,  0.0017985 ,  0.31679667])"
      ]
     },
     "execution_count": 15,
     "metadata": {},
     "output_type": "execute_result"
    }
   ],
   "source": [
    "Wi\n"
   ]
  },
  {
   "cell_type": "code",
   "execution_count": 51,
   "metadata": {},
   "outputs": [],
   "source": [
    "def ErrorMedio(Xmat,Y,Wi,W0):\n",
    "    Vi=list()\n",
    "    for i in range(0,len(Xmat[:,0])-1):\n",
    "        Vi.append(np.dot(Xmat[i,:],Wi))    \n",
    "    return np.mean(Vi-Y)**2"
   ]
  },
  {
   "cell_type": "code",
   "execution_count": 52,
   "metadata": {},
   "outputs": [
    {
     "data": {
      "text/plain": [
       "0.0011342128466341641"
      ]
     },
     "execution_count": 52,
     "metadata": {},
     "output_type": "execute_result"
    }
   ],
   "source": [
    "ErrorMedio(X_test,Y_test,Wi,W0)"
   ]
  },
  {
   "cell_type": "code",
   "execution_count": null,
   "metadata": {},
   "outputs": [],
   "source": []
  },
  {
   "cell_type": "code",
   "execution_count": null,
   "metadata": {
    "collapsed": true
   },
   "outputs": [],
   "source": []
  },
  {
   "cell_type": "code",
   "execution_count": null,
   "metadata": {
    "collapsed": true
   },
   "outputs": [],
   "source": []
  }
 ],
 "metadata": {
  "kernelspec": {
   "display_name": "Python 2",
   "language": "python",
   "name": "python2"
  },
  "language_info": {
   "codemirror_mode": {
    "name": "ipython",
    "version": 2
   },
   "file_extension": ".py",
   "mimetype": "text/x-python",
   "name": "python",
   "nbconvert_exporter": "python",
   "pygments_lexer": "ipython2",
   "version": "2.7.13"
  }
 },
 "nbformat": 4,
 "nbformat_minor": 2
}
